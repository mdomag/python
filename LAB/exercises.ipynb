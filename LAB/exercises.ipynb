{
 "cells": [
  {
   "cell_type": "code",
   "execution_count": 41,
   "metadata": {},
   "outputs": [
    {
     "name": "stdout",
     "output_type": "stream",
     "text": [
      "[2, 2, 4, 10, 14, 8, 20, 80]\n"
     ]
    }
   ],
   "source": [
    "#cw8\n",
    "l = [1, 2, 3, 4, 5, 6, 7, 8, 9, 15, 20, 30, 80]\n",
    "l = list(map(lambda n: n*2 if n%2 else n, list(filter(lambda n: n%3, l))))\n",
    "print(l)"
   ]
  },
  {
   "cell_type": "code",
   "execution_count": 42,
   "metadata": {},
   "outputs": [
    {
     "name": "stdout",
     "output_type": "stream",
     "text": [
      "['lala', 'pm', 'dewr', 'jajaja']\n"
     ]
    }
   ],
   "source": [
    "#cw9\n",
    "s = [\"lala\", \"p323m\", \"dewr23\", \"jajaja\", \"234\"]\n",
    "s = list(filter(None, [''.join([i for i in j if i.isalpha()]) for j in s]))\n",
    "print(s)"
   ]
  },
  {
   "cell_type": "code",
   "execution_count": 43,
   "metadata": {},
   "outputs": [
    {
     "name": "stdout",
     "output_type": "stream",
     "text": [
      "[1233, 323, 23, 234]\n"
     ]
    }
   ],
   "source": [
    "#cw10\n",
    "s = [\"la1233la\", \"p323m\", \"dewr23\", \"jajaja\", \"234\"]\n",
    "s = list(map(lambda n: int(n), list(filter(None, [''.join([i for i in j if i.isdigit()]) for j in s]))))\n",
    "print(s)"
   ]
  },
  {
   "cell_type": "code",
   "execution_count": 44,
   "metadata": {},
   "outputs": [
    {
     "name": "stdout",
     "output_type": "stream",
     "text": [
      "[(1, 2), (9, 8), ('pies', 'nerka'), ('a', 'b'), (1, 'kotek')]\n"
     ]
    }
   ],
   "source": [
    "#cw11\n",
    "k = [(1, 2, 3), (9, 8), ('a'), (9), (\"pies\", \"nerka\"), (\"koteczek\"), ('a', 'b', 9), (1, \"kotek\")]\n",
    "k = list(map(lambda r: r[:2], list(filter(lambda m: isinstance(m, (tuple)) and len(m) > 1, k))))\n",
    "print(k)"
   ]
  },
  {
   "cell_type": "code",
   "execution_count": 45,
   "metadata": {},
   "outputs": [
    {
     "name": "stdout",
     "output_type": "stream",
     "text": [
      "[(1, 2, 3, 4), 2, (1, 4, 5, 6), (1, 32, 9), (6, 8)]\n"
     ]
    }
   ],
   "source": [
    "#cw12\n",
    "k = [(1, 2, 3, 4), (9, 0), (1), (2), (1, 4, 5, 6), (1, 32, 9), (1, 4), (6, 8), (1, 8)]\n",
    "k = list(filter(lambda s: not sum(s)%2 if isinstance(s, tuple) else not s%2, k))\n",
    "print(k)"
   ]
  },
  {
   "cell_type": "code",
   "execution_count": 46,
   "metadata": {},
   "outputs": [],
   "source": [
    "def check(t):\n",
    "    for n in t:\n",
    "        if n%3:\n",
    "            return False\n",
    "    else:\n",
    "        return True"
   ]
  },
  {
   "cell_type": "code",
   "execution_count": 47,
   "metadata": {},
   "outputs": [
    {
     "name": "stdout",
     "output_type": "stream",
     "text": [
      "[(3, 6, 9), (15, 9), 9]\n"
     ]
    }
   ],
   "source": [
    "#cw13\n",
    "k = [(3, 6, 9), (1, 2, 3), (1, 9, 0), (15, 9), (8, 7, 6), (9)]\n",
    "k = list(filter(lambda t: all(not n%3 for n in t) if isinstance(t, tuple) else not t%3, k))\n",
    "print(k)\n"
   ]
  },
  {
   "cell_type": "code",
   "execution_count": 48,
   "metadata": {},
   "outputs": [
    {
     "name": "stdout",
     "output_type": "stream",
     "text": [
      "[(3, 6, 9), (1, 2, 3), (1, 9, 0), (15, 9), 9]\n"
     ]
    }
   ],
   "source": [
    "#cw14\n",
    "k = [(3, 6, 9), (1, 2, 3), (1, 9, 0), (15, 9), (8, 7), (9)]\n",
    "k = list(filter(lambda t: any(not n%3 for n in t) if isinstance(t, tuple) else not t%3, k))\n",
    "print(k)"
   ]
  },
  {
   "cell_type": "code",
   "execution_count": 49,
   "metadata": {},
   "outputs": [
    {
     "name": "stdout",
     "output_type": "stream",
     "text": [
      "['asia', 'kot', 'b', 'k']\n"
     ]
    }
   ],
   "source": [
    "#cw15\n",
    "l = [\"asia basia\", \"kot mleko\", \"b b b\", \"jaja\", \"lala\", \"k o t e k\"]\n",
    "#l = list(map(lambda k: k[0], list(filter(lambda i: len(i)>1, list(map(lambda s: s.split(), l))))))\n",
    "l = list(map(lambda i: i.split()[0], list(filter(lambda w: any(c.isspace() for c in w), l))))\n",
    "print(l)"
   ]
  },
  {
   "cell_type": "code",
   "execution_count": 50,
   "metadata": {},
   "outputs": [
    {
     "name": "stdout",
     "output_type": "stream",
     "text": [
      "True\n",
      "True\n"
     ]
    }
   ],
   "source": [
    "#cw16\n",
    "b = [False, False, False, True]\n",
    "result = (not all(b)) is any(list(map(lambda e: not e, b)))\n",
    "print(result)\n",
    "reulst = (not any(b) is all(list(map(lambda e: not e, b))))\n",
    "print(result)\n",
    "\n"
   ]
  },
  {
   "cell_type": "code",
   "execution_count": 51,
   "metadata": {},
   "outputs": [
    {
     "name": "stdout",
     "output_type": "stream",
     "text": [
      "2 samochody o masie 2375.860000 kilograma \n",
      "(w notacji wyklaniczej 2.375860e+03 kilograma)\n"
     ]
    }
   ],
   "source": [
    "s = \"%d %s o masie %f kilograma \\n(w notacji wyklaniczej %e kilograma)\"\n",
    "dane = (2, \"samochody\", 2375.86, 2375.86)\n",
    "print(s % dane)"
   ]
  },
  {
   "cell_type": "code",
   "execution_count": 52,
   "metadata": {},
   "outputs": [
    {
     "name": "stdout",
     "output_type": "stream",
     "text": [
      "*        hh*\n",
      "*halo      *\n",
      "*    1.2324*\n",
      "*1.2324    *\n",
      "to jest 10%\n"
     ]
    }
   ],
   "source": [
    "print(\"*%10s*\" % (\"hh\"))\n",
    "print(\"*%-10s*\" % (\"halo\"))\n",
    "print(\"*%10.4f*\" % 1.23243546565768888888888)\n",
    "print(\"*%-10.4f*\" % 1.23243546565768888888888)\n",
    "\n",
    "print(\"to jest %d%%\" % (10))"
   ]
  },
  {
   "cell_type": "markdown",
   "metadata": {},
   "source": [
    "## Formatowanie z użyciem metody format()"
   ]
  },
  {
   "cell_type": "code",
   "execution_count": 53,
   "metadata": {},
   "outputs": [
    {
     "name": "stdout",
     "output_type": "stream",
     "text": [
      "psy i 2 koty\n"
     ]
    }
   ],
   "source": [
    "s = \"{1} i {0} {zwierzeta}\"\n",
    "print(s.format(2, \"psy\", zwierzeta = \"koty\"))"
   ]
  },
  {
   "cell_type": "code",
   "execution_count": 54,
   "metadata": {},
   "outputs": [
    {
     "name": "stdout",
     "output_type": "stream",
     "text": [
      "element listy 2 i wartosc ze slownika: baba\n"
     ]
    }
   ],
   "source": [
    "s = \"element listy {lista[1]} i wartosc ze slownika: {slownik[b]}\"\n",
    "print(s.format(lista = [1, 2, 3], slownik = {\"a\":\"ala\", \"b\":\"baba\"}))"
   ]
  },
  {
   "cell_type": "code",
   "execution_count": 55,
   "metadata": {},
   "outputs": [
    {
     "name": "stdout",
     "output_type": "stream",
     "text": [
      "|         hh|\n",
      "|hh         |\n",
      "|hh         |\n",
      "|____hh_____|\n",
      "|___23.78___|\n"
     ]
    }
   ],
   "source": [
    "print(\"|{0:>11s}|\".format(\"hh\"))\n",
    "print(\"|{0:<11s}|\".format(\"hh\"))\n",
    "print(\"|{0:<11s}|\".format(\"hh\"))\n",
    "print(\"|{0:_^11s}|\".format(\"hh\"))\n",
    "print(\"|{0:_^11.4}|\".format(23.77777777771))"
   ]
  },
  {
   "cell_type": "markdown",
   "metadata": {},
   "source": [
    "## {indeks z krotki : element do wypelnienia - kierunek - ile miejsc - format}\n",
    "## 11.4 = 11 miejsc ogolem + 4 na liczbe"
   ]
  },
  {
   "cell_type": "code",
   "execution_count": 56,
   "metadata": {},
   "outputs": [
    {
     "name": "stdout",
     "output_type": "stream",
     "text": [
      "dlugosc wynosi: 2\n",
      "pole wynosi: 4\n",
      "4\n"
     ]
    }
   ],
   "source": [
    "x1 = 2\n",
    "s1 = f\"dlugosc wynosi: {x1}\"\n",
    "print(s1)\n",
    "s2 = f\"pole wynosi: {(x2 := x1**2)}\"\n",
    "print(s2)\n",
    "print(x2)"
   ]
  },
  {
   "cell_type": "code",
   "execution_count": 57,
   "metadata": {},
   "outputs": [
    {
     "name": "stdout",
     "output_type": "stream",
     "text": [
      "__2.349___\n"
     ]
    }
   ],
   "source": [
    "e = 2.3492895348953594858389839\n",
    "print(f\"{e:_^10.4}\")"
   ]
  },
  {
   "cell_type": "markdown",
   "metadata": {},
   "source": [
    "# MODUŁY"
   ]
  },
  {
   "cell_type": "code",
   "execution_count": 58,
   "metadata": {},
   "outputs": [],
   "source": [
    "import funkcje"
   ]
  },
  {
   "cell_type": "code",
   "execution_count": 59,
   "metadata": {},
   "outputs": [
    {
     "name": "stdout",
     "output_type": "stream",
     "text": [
      "8\n"
     ]
    }
   ],
   "source": [
    "x = 2\n",
    "print(funkcje.f1(x))"
   ]
  },
  {
   "cell_type": "code",
   "execution_count": 60,
   "metadata": {},
   "outputs": [
    {
     "data": {
      "text/plain": [
       "11.142857142857142"
      ]
     },
     "execution_count": 60,
     "metadata": {},
     "output_type": "execute_result"
    }
   ],
   "source": [
    "import funkcje as fc\n",
    "from funkcje import f1, f2\n",
    "f2(78)"
   ]
  },
  {
   "cell_type": "code",
   "execution_count": 61,
   "metadata": {},
   "outputs": [
    {
     "data": {
      "text/plain": [
       "361466699920265282313517677356595937875"
      ]
     },
     "execution_count": 61,
     "metadata": {},
     "output_type": "execute_result"
    }
   ],
   "source": [
    "from funkcje import * #wszystko importuje\n",
    "f1(7123434435435)"
   ]
  },
  {
   "cell_type": "code",
   "execution_count": 62,
   "metadata": {},
   "outputs": [
    {
     "name": "stdout",
     "output_type": "stream",
     "text": [
      "-0.7985506235875843\n",
      "0.7853981633974483\n",
      "3.141592653589793\n"
     ]
    }
   ],
   "source": [
    "from math import *\n",
    "print(cos(1234))\n",
    "print(pi/4)\n",
    "print(pi)"
   ]
  },
  {
   "cell_type": "code",
   "execution_count": 63,
   "metadata": {},
   "outputs": [
    {
     "name": "stdout",
     "output_type": "stream",
     "text": [
      "0.8485372351730658\n",
      "9\n",
      "['a', 'l', 'a', 'e', 'a', 'l', 'a', 'a', 'a', 'g']\n",
      "518\n"
     ]
    }
   ],
   "source": [
    "from random import *\n",
    "print(random())\n",
    "print(randint(1, 10)) #za kazdym razem inna!\n",
    "print(choices(\"agelr\", weights = (5, 2, 2, 1, 0), k = 10)) #dyktuje prawdopodobienstwo losowania\n",
    "print(choices(\"agelr\", weights = (5, 2, 2, 1, 0), k = 1000).count(\"a\"))"
   ]
  },
  {
   "cell_type": "code",
   "execution_count": 64,
   "metadata": {},
   "outputs": [
    {
     "name": "stdout",
     "output_type": "stream",
     "text": [
      "podaj zestaw regul\n",
      "podaj dlugosc ciagu\n",
      "podaj liczbe krokow\n",
      "zasada: 00001010 dlugosc ciagu: 10 liczba krokow: 10\n",
      "______________________STEPS_______________________\n",
      "['*', '_', '_', '*', '_', '*', '*', '*', '*', '_']\n",
      "['_', '_', '*', '_', '_', '*', '_', '_', '_', '_']\n",
      "['_', '*', '_', '_', '*', '_', '_', '_', '_', '_']\n",
      "['*', '_', '_', '*', '_', '_', '_', '_', '_', '_']\n",
      "['_', '_', '*', '_', '_', '_', '_', '_', '_', '*']\n",
      "['_', '*', '_', '_', '_', '_', '_', '_', '*', '_']\n",
      "['*', '_', '_', '_', '_', '_', '_', '*', '_', '_']\n",
      "['_', '_', '_', '_', '_', '_', '*', '_', '_', '*']\n",
      "['_', '_', '_', '_', '_', '*', '_', '_', '*', '_']\n",
      "['_', '_', '_', '_', '*', '_', '_', '*', '_', '_']\n",
      "['_', '_', '_', '*', '_', '_', '*', '_', '_', '_']\n"
     ]
    }
   ],
   "source": [
    "import random\n",
    "print(\"podaj zestaw regul\")\n",
    "rule = f'{int(input()):08b}'\n",
    "print(\"podaj dlugosc ciagu\")\n",
    "sequence_length  = int(input())\n",
    "print(\"podaj liczbe krokow\")\n",
    "steps = int(input())\n",
    "print(f\"zasada: {rule} dlugosc ciagu: {sequence_length } liczba krokow: {steps}\")\n",
    "\n",
    "patterns = [\"***\", \"**_\", \"*_*\", \"*__\", \"_**\", \"_*_\", \"__*\", \"___\"]\n",
    "sequence = list(\"\".join(random.choice('*_') for i in range(sequence_length+2)))\n",
    "\n",
    "#sequence=list(\"_*_*_*_**__**__*_*_**_**__*__**_\")\n",
    "#sequence_length  = len(sequence)-2\n",
    "\n",
    "sequence[0], sequence[-1] = sequence[-2], sequence[1] #uproszczone zapetlenie sekwencji\n",
    "\n",
    "print(f\"{'STEPS'.center(sequence_length*5, '_')}\")\n",
    "print(sequence[1:sequence_length +1])\n",
    "#\n",
    "for i in range(steps):\n",
    "    temp = '_'\n",
    "    for j in range(1, sequence_length+1):\n",
    "        cur = int(rule[patterns.index(sequence[j-1]+sequence[j]+sequence[j+1])])\n",
    "        #print(j-1, sequence[j-1], j, sequence[j], j+1, sequence[j+1], cur)\n",
    "        sequence[j-1] = temp\n",
    "        temp = '*' if cur else '_'\n",
    "    sequence[sequence_length] = temp\n",
    "    sequence[0], sequence[-1] = sequence[-2], sequence[1]\n",
    "    print(sequence[1:sequence_length +1])\n"
   ]
  },
  {
   "cell_type": "code",
   "execution_count": 65,
   "metadata": {},
   "outputs": [
    {
     "data": {
      "text/plain": [
       "[1, 2, 3, 4, 1, 2, 3, 4, 1, 2, 3, 4, 1, 2, 3, 4]"
      ]
     },
     "execution_count": 65,
     "metadata": {},
     "output_type": "execute_result"
    }
   ],
   "source": [
    "x = [1,2,3,4]\n",
    "x*4"
   ]
  },
  {
   "cell_type": "code",
   "execution_count": 66,
   "metadata": {},
   "outputs": [
    {
     "data": {
      "text/plain": [
       "array([1, 2, 3, 4, 5])"
      ]
     },
     "execution_count": 66,
     "metadata": {},
     "output_type": "execute_result"
    }
   ],
   "source": [
    "import numpy as np\n",
    "t = np.array([1,2,3,4,5])\n",
    "t"
   ]
  },
  {
   "cell_type": "code",
   "execution_count": 67,
   "metadata": {},
   "outputs": [
    {
     "data": {
      "text/plain": [
       "numpy.ndarray"
      ]
     },
     "execution_count": 67,
     "metadata": {},
     "output_type": "execute_result"
    }
   ],
   "source": [
    "type(t)"
   ]
  },
  {
   "cell_type": "code",
   "execution_count": 68,
   "metadata": {},
   "outputs": [
    {
     "data": {
      "text/plain": [
       "array([0., 0., 0., 0., 0., 0., 0., 0., 0., 0.])"
      ]
     },
     "execution_count": 68,
     "metadata": {},
     "output_type": "execute_result"
    }
   ],
   "source": [
    "z = np.zeros(10)\n",
    "z"
   ]
  },
  {
   "cell_type": "code",
   "execution_count": 69,
   "metadata": {},
   "outputs": [
    {
     "data": {
      "text/plain": [
       "array([[0., 0., 0.],\n",
       "       [0., 0., 0.],\n",
       "       [0., 0., 0.],\n",
       "       [0., 0., 0.],\n",
       "       [0., 0., 0.]])"
      ]
     },
     "execution_count": 69,
     "metadata": {},
     "output_type": "execute_result"
    }
   ],
   "source": [
    "z = np.zeros((5,3))\n",
    "z"
   ]
  },
  {
   "cell_type": "code",
   "execution_count": 70,
   "metadata": {},
   "outputs": [
    {
     "data": {
      "text/plain": [
       "array([[1., 1., 1., 1., 1., 1.],\n",
       "       [1., 1., 1., 1., 1., 1.],\n",
       "       [1., 1., 1., 1., 1., 1.],\n",
       "       [1., 1., 1., 1., 1., 1.]])"
      ]
     },
     "execution_count": 70,
     "metadata": {},
     "output_type": "execute_result"
    }
   ],
   "source": [
    "o = np.ones((4,6))\n",
    "o"
   ]
  },
  {
   "cell_type": "code",
   "execution_count": 71,
   "metadata": {},
   "outputs": [
    {
     "data": {
      "text/plain": [
       "array([ 1,  4,  9, 16, 25])"
      ]
     },
     "execution_count": 71,
     "metadata": {},
     "output_type": "execute_result"
    }
   ],
   "source": [
    "t\n",
    "t**2"
   ]
  },
  {
   "cell_type": "code",
   "execution_count": 72,
   "metadata": {},
   "outputs": [
    {
     "data": {
      "text/plain": [
       "array([-4,  1,  8, 17, 28])"
      ]
     },
     "execution_count": 72,
     "metadata": {},
     "output_type": "execute_result"
    }
   ],
   "source": [
    "t**2 + 2*t - 7"
   ]
  },
  {
   "cell_type": "code",
   "execution_count": 73,
   "metadata": {},
   "outputs": [
    {
     "data": {
      "text/plain": [
       "array([0. , 0.2, 0.4, 0.6, 0.8, 1. ])"
      ]
     },
     "execution_count": 73,
     "metadata": {},
     "output_type": "execute_result"
    }
   ],
   "source": [
    "l1 = np.linspace(0,1,6) #6 elementow\n",
    "l1"
   ]
  },
  {
   "cell_type": "code",
   "execution_count": 74,
   "metadata": {},
   "outputs": [
    {
     "data": {
      "text/plain": [
       "array([ 1.,  3.,  5.,  7.,  9., 11., 13., 15., 17., 19., 21.])"
      ]
     },
     "execution_count": 74,
     "metadata": {},
     "output_type": "execute_result"
    }
   ],
   "source": [
    "np.linspace(1,21,11) #11 elementow z przedzialu 1-21 w odpowiednim odstepei"
   ]
  },
  {
   "cell_type": "code",
   "execution_count": 75,
   "metadata": {},
   "outputs": [
    {
     "data": {
      "text/plain": [
       "array([ 1,  4,  7, 10, 13, 16, 19])"
      ]
     },
     "execution_count": 75,
     "metadata": {},
     "output_type": "execute_result"
    }
   ],
   "source": [
    "np.arange(1,20,3) #elementy od 1 do 20 "
   ]
  },
  {
   "cell_type": "code",
   "execution_count": 76,
   "metadata": {},
   "outputs": [
    {
     "data": {
      "text/plain": [
       "array([False, False, False, False, False, False])"
      ]
     },
     "execution_count": 76,
     "metadata": {},
     "output_type": "execute_result"
    }
   ],
   "source": [
    "l1>7"
   ]
  },
  {
   "cell_type": "code",
   "execution_count": 77,
   "metadata": {},
   "outputs": [
    {
     "data": {
      "text/plain": [
       "array([0.        , 0.19866933, 0.38941834, 0.56464247, 0.71735609,\n",
       "       0.84147098])"
      ]
     },
     "execution_count": 77,
     "metadata": {},
     "output_type": "execute_result"
    }
   ],
   "source": [
    "np.sin(l1)"
   ]
  },
  {
   "cell_type": "code",
   "execution_count": 78,
   "metadata": {},
   "outputs": [
    {
     "data": {
      "text/plain": [
       "array([], dtype=float64)"
      ]
     },
     "execution_count": 78,
     "metadata": {},
     "output_type": "execute_result"
    }
   ],
   "source": [
    "l1[l1>7]"
   ]
  },
  {
   "cell_type": "code",
   "execution_count": 79,
   "metadata": {},
   "outputs": [],
   "source": [
    "import matplotlib.pyplot as plt\n",
    "import math"
   ]
  },
  {
   "cell_type": "code",
   "execution_count": 80,
   "metadata": {},
   "outputs": [
    {
     "data": {
      "image/png": "[encoded data removed]",
      "text/plain": [
       "<Figure size 640x480 with 1 Axes>"
      ]
     },
     "metadata": {},
     "output_type": "display_data"
    }
   ],
   "source": [
    "x = [i/100 for i in range(0,628)]\n",
    "y = list(map(lambda i:math.sin(i),x))\n",
    "plt.plot(x,y, color='r')\n",
    "plt.show() #jak sie nie pokazuje"
   ]
  },
  {
   "cell_type": "code",
   "execution_count": 81,
   "metadata": {},
   "outputs": [
    {
     "data": {
      "text/plain": [
       "[<matplotlib.lines.Line2D at 0x28232df24b0>]"
      ]
     },
     "execution_count": 81,
     "metadata": {},
     "output_type": "execute_result"
    },
    {
     "data": {
      "image/png": "[encoded data removed]",
      "text/plain": [
       "<Figure size 640x480 with 1 Axes>"
      ]
     },
     "metadata": {},
     "output_type": "display_data"
    }
   ],
   "source": [
    "x = [i/100 for i in range(0,628)]\n",
    "y = list(map(lambda i:math.sin(i),x))\n",
    "plt.plot(x,y, color='r', marker='.') #o / . / r?"
   ]
  },
  {
   "cell_type": "code",
   "execution_count": 82,
   "metadata": {},
   "outputs": [
    {
     "data": {
      "image/png": "[encoded data removed]",
      "text/plain": [
       "<Figure size 640x480 with 1 Axes>"
      ]
     },
     "metadata": {},
     "output_type": "display_data"
    }
   ],
   "source": [
    "x = np.linspace(0,1,50)\n",
    "for i in range(1,6):\n",
    "    plt.plot(x,np.exp(x/i))"
   ]
  },
  {
   "cell_type": "code",
   "execution_count": 83,
   "metadata": {},
   "outputs": [
    {
     "data": {
      "image/png": "[encoded data removed]",
      "text/plain": [
       "<Figure size 640x480 with 1 Axes>"
      ]
     },
     "metadata": {},
     "output_type": "display_data"
    }
   ],
   "source": [
    "x = np.linspace(0,1,50)\n",
    "for i in range(1,6):\n",
    "    plt.plot(x,x**(i/10),label=f'x*{i:45.2f}')"
   ]
  }
 ],
 "metadata": {
  "kernelspec": {
   "display_name": "Python 3",
   "language": "python",
   "name": "python3"
  },
  "language_info": {
   "codemirror_mode": {
    "name": "ipython",
    "version": 3
   },
   "file_extension": ".py",
   "mimetype": "text/x-python",
   "name": "python",
   "nbconvert_exporter": "python",
   "pygments_lexer": "ipython3",
   "version": "3.12.2"
  }
 },
 "nbformat": 4,
 "nbformat_minor": 2
}
